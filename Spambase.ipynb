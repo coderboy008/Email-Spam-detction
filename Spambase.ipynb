{
  "nbformat": 4,
  "nbformat_minor": 0,
  "metadata": {
    "colab": {
      "name": "Untitled16.ipynb",
      "version": "0.3.2",
      "provenance": [],
      "collapsed_sections": []
    },
    "kernelspec": {
      "name": "python3",
      "display_name": "Python 3"
    }
  },
  "cells": [
    {
      "cell_type": "code",
      "metadata": {
        "id": "61Hf5V-p2XUX",
        "colab_type": "code",
        "colab": {}
      },
      "source": [
        "import numpy as np\n",
        "import pandas as pd\n",
        "\n",
        "from sklearn.naive_bayes import GaussianNB\n",
        "from sklearn.model_selection import train_test_split\n",
        "from sklearn.metrics import classification_report\n",
        "from sklearn.metrics import confusion_matrix\n",
        "from sklearn.metrics import accuracy_score\n",
        "from sklearn import metrics\n"
      ],
      "execution_count": 0,
      "outputs": []
    },
    {
      "cell_type": "code",
      "metadata": {
        "id": "tgPsAfQR3UV7",
        "colab_type": "code",
        "colab": {}
      },
      "source": [
        "email=pd.read_csv('spambase.data')\n"
      ],
      "execution_count": 0,
      "outputs": []
    },
    {
      "cell_type": "code",
      "metadata": {
        "id": "TmyYASbxInd-",
        "colab_type": "code",
        "colab": {}
      },
      "source": [
        "x=email.iloc[:,:57]"
      ],
      "execution_count": 0,
      "outputs": []
    },
    {
      "cell_type": "code",
      "metadata": {
        "id": "sZoOLx9zIqoW",
        "colab_type": "code",
        "colab": {}
      },
      "source": [
        "y=email.iloc[:,-1]"
      ],
      "execution_count": 0,
      "outputs": []
    },
    {
      "cell_type": "code",
      "metadata": {
        "id": "NbH2ALHYAt8N",
        "colab_type": "code",
        "colab": {
          "base_uri": "https://localhost:8080/",
          "height": 214
        },
        "outputId": "e3fac451-5e73-4562-f28e-1ee72e73c04c"
      },
      "source": [
        "print(email.describe())"
      ],
      "execution_count": 54,
      "outputs": [
        {
          "output_type": "stream",
          "text": [
            "                 0         0.64  ...           278            1\n",
            "count  4600.000000  4600.000000  ...   4600.000000  4600.000000\n",
            "mean      0.104576     0.212922  ...    283.290435     0.393913\n",
            "std       0.305387     1.290700  ...    606.413764     0.488669\n",
            "min       0.000000     0.000000  ...      1.000000     0.000000\n",
            "25%       0.000000     0.000000  ...     35.000000     0.000000\n",
            "50%       0.000000     0.000000  ...     95.000000     0.000000\n",
            "75%       0.000000     0.000000  ...    265.250000     1.000000\n",
            "max       4.540000    14.280000  ...  15841.000000     1.000000\n",
            "\n",
            "[8 rows x 58 columns]\n"
          ],
          "name": "stdout"
        }
      ]
    },
    {
      "cell_type": "code",
      "metadata": {
        "id": "JpbFEsf8BGrR",
        "colab_type": "code",
        "colab": {}
      },
      "source": [
        "model = GaussianNB()"
      ],
      "execution_count": 0,
      "outputs": []
    },
    {
      "cell_type": "code",
      "metadata": {
        "id": "PsPWwM1rGTbZ",
        "colab_type": "code",
        "colab": {}
      },
      "source": [
        "x_train,x_test,y_train,y_test = train_test_split(x,y,test_size=0.2, random_state=42,shuffle = True)"
      ],
      "execution_count": 0,
      "outputs": []
    },
    {
      "cell_type": "code",
      "metadata": {
        "id": "hlwGDCsaE2qb",
        "colab_type": "code",
        "colab": {
          "base_uri": "https://localhost:8080/",
          "height": 35
        },
        "outputId": "88ebe0da-f8d1-4c27-982e-6c289d6bc977"
      },
      "source": [
        "model.fit(x_train,y_train)\n"
      ],
      "execution_count": 61,
      "outputs": [
        {
          "output_type": "execute_result",
          "data": {
            "text/plain": [
              "GaussianNB(priors=None, var_smoothing=1e-09)"
            ]
          },
          "metadata": {
            "tags": []
          },
          "execution_count": 61
        }
      ]
    },
    {
      "cell_type": "code",
      "metadata": {
        "id": "9tOQ_VJtKbfk",
        "colab_type": "code",
        "colab": {}
      },
      "source": [
        "predicted = model.predict(x_test)"
      ],
      "execution_count": 0,
      "outputs": []
    },
    {
      "cell_type": "code",
      "metadata": {
        "id": "o7NcUQF5KbmD",
        "colab_type": "code",
        "colab": {
          "base_uri": "https://localhost:8080/",
          "height": 35
        },
        "outputId": "623c0e83-78e6-4c10-d931-b37f0109dd8f"
      },
      "source": [
        "print(\"Accuracy:\",metrics.accuracy_score(y_test, predicted))"
      ],
      "execution_count": 65,
      "outputs": [
        {
          "output_type": "stream",
          "text": [
            "Accuracy: 0.8152173913043478\n"
          ],
          "name": "stdout"
        }
      ]
    }
  ]
}